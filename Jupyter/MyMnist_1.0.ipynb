{
 "cells": [
  {
   "cell_type": "code",
   "execution_count": 1,
   "metadata": {
    "collapsed": true
   },
   "outputs": [],
   "source": [
    "import tensorflow as tf\n",
    "from tensorflow.contrib.learn.python.learn.datasets.mnist import read_data_sets\n",
    "tf.set_random_seed(0)"
   ]
  },
  {
   "cell_type": "code",
   "execution_count": 2,
   "metadata": {
    "collapsed": false
   },
   "outputs": [
    {
     "name": "stdout",
     "output_type": "stream",
     "text": [
      "Extracting ..\\Data\\MNIST_Data\\train-images-idx3-ubyte.gz\n",
      "Extracting ..\\Data\\MNIST_Data\\train-labels-idx1-ubyte.gz\n",
      "Extracting ..\\Data\\MNIST_Data\\t10k-images-idx3-ubyte.gz\n",
      "Extracting ..\\Data\\MNIST_Data\\t10k-labels-idx1-ubyte.gz\n"
     ]
    }
   ],
   "source": [
    "mnist = read_data_sets(\"..\\\\Data\\\\MNIST_Data\", one_hot=True, reshape=False, validation_size=0)"
   ]
  },
  {
   "cell_type": "code",
   "execution_count": 3,
   "metadata": {
    "collapsed": true
   },
   "outputs": [],
   "source": [
    "# 28 * 28 = 784\n",
    "x = tf.placeholder(tf.float32, [None, 28, 28, 1], name=\"InputData\")\n",
    "y = tf.placeholder(tf.float32, [None, 10], name=\"Output\")"
   ]
  },
  {
   "cell_type": "code",
   "execution_count": 4,
   "metadata": {
    "collapsed": false
   },
   "outputs": [],
   "source": [
    "W = tf.Variable(tf.zeros([784, 10]), name=\"Weights\")\n",
    "b = tf.Variable(tf.zeros([10]), name=\"Biases\")"
   ]
  },
  {
   "cell_type": "code",
   "execution_count": 5,
   "metadata": {
    "collapsed": false
   },
   "outputs": [],
   "source": [
    "with tf.name_scope(\"Wx_b\") as scope:\n",
    "    # flatten the images into a single line of pixels\n",
    "    # -1 in the shape definition means \"the only possible dimension that will preserve the number of elements\"\n",
    "    __X = tf.reshape(x, [-1, 784])\n",
    "    model = tf.nn.softmax(tf.matmul(__X, W) + b)"
   ]
  },
  {
   "cell_type": "code",
   "execution_count": 6,
   "metadata": {
    "collapsed": false
   },
   "outputs": [],
   "source": [
    "W_h = tf.summary.histogram(\"weights\", W)\n",
    "b_h = tf.summary.histogram(\"biases\", b)"
   ]
  },
  {
   "cell_type": "code",
   "execution_count": 7,
   "metadata": {
    "collapsed": true
   },
   "outputs": [],
   "source": [
    "with tf.name_scope(\"cost_func\") as scope:\n",
    "    cost_function = -tf.reduce_sum(y * tf.log(model))\n",
    "    tf.summary.scalar(\"cost_func\", cost_function)"
   ]
  },
  {
   "cell_type": "code",
   "execution_count": 8,
   "metadata": {
    "collapsed": true
   },
   "outputs": [],
   "source": [
    "learning_rate = 0.01\n",
    "training_iteration = 30\n",
    "batch_size = 100\n",
    "display_step = 2"
   ]
  },
  {
   "cell_type": "code",
   "execution_count": 9,
   "metadata": {
    "collapsed": false
   },
   "outputs": [],
   "source": [
    "with tf.name_scope(\"train\") as scope:\n",
    "    optimizer = tf.train.GradientDescentOptimizer(learning_rate).minimize(cost_function)"
   ]
  },
  {
   "cell_type": "code",
   "execution_count": 10,
   "metadata": {
    "collapsed": false
   },
   "outputs": [],
   "source": [
    "init = tf.global_variables_initializer()"
   ]
  },
  {
   "cell_type": "code",
   "execution_count": 11,
   "metadata": {
    "collapsed": false
   },
   "outputs": [],
   "source": [
    "merged_summary_op = tf.summary.merge_all()"
   ]
  },
  {
   "cell_type": "code",
   "execution_count": 12,
   "metadata": {
    "collapsed": false
   },
   "outputs": [
    {
     "name": "stdout",
     "output_type": "stream",
     "text": [
      "Iteration : 1 Cost = 29.7747808389\n",
      "Iteration : 3 Cost = 20.8320865202\n",
      "Iteration : 5 Cost = 20.0496964359\n",
      "Iteration : 7 Cost = 19.5401901547\n",
      "Iteration : 9 Cost = 19.215731376\n",
      "Iteration : 11 Cost = 19.0707324656\n",
      "Iteration : 13 Cost = 18.8595597132\n",
      "Iteration : 15 Cost = 18.7534988252\n",
      "Iteration : 17 Cost = 18.5952136771\n",
      "Iteration : 19 Cost = 18.4894305333\n",
      "Iteration : 21 Cost = 18.5211666187\n",
      "Iteration : 23 Cost = 18.438094033\n",
      "Iteration : 25 Cost = 18.2633220132\n",
      "Iteration : 27 Cost = 18.0477957066\n",
      "Iteration : 29 Cost = 18.0980408327\n",
      "completed\n",
      "Accuracy :0.9255\n"
     ]
    }
   ],
   "source": [
    "with tf.Session() as sess:\n",
    "    sess.run(init)\n",
    "    summary_writer = tf.summary.FileWriter('Logs', graph=sess.graph)\n",
    "    \n",
    "    for iteration in range(training_iteration):\n",
    "        avg_cost = 0.\n",
    "        total_batch = int(mnist.train.num_examples / batch_size)\n",
    "        \n",
    "        for i in range(total_batch):\n",
    "            batch_xs, batch_ys = mnist.train.next_batch(batch_size)\n",
    "            sess.run(optimizer, feed_dict={x:batch_xs, y:batch_ys})\n",
    "            avg_cost += sess.run(cost_function, feed_dict={x:batch_xs, y:batch_ys}) / total_batch\n",
    "            \n",
    "            summary_str = sess.run(merged_summary_op, feed_dict={x:batch_xs, y:batch_ys})\n",
    "            summary_writer.add_summary(summary_str, iteration*total_batch + i)\n",
    "            \n",
    "        if iteration % display_step == 0:\n",
    "            print(\"Iteration : \" + str(iteration + 1) + \" Cost = \" + str(avg_cost))\n",
    "            \n",
    "    print(\"completed\")\n",
    "    predication = tf.equal(tf.argmax(model, 1), tf.argmax(y, 1))\n",
    "    accuracy = tf.reduce_mean(tf.cast(predication, tf.float32))\n",
    "    print(\"Accuracy :\" + str(accuracy.eval({x: mnist.test.images, y:mnist.test.labels})))"
   ]
  },
  {
   "cell_type": "code",
   "execution_count": null,
   "metadata": {
    "collapsed": true
   },
   "outputs": [],
   "source": []
  }
 ],
 "metadata": {
  "anaconda-cloud": {},
  "kernelspec": {
   "display_name": "Python [conda root]",
   "language": "python",
   "name": "conda-root-py"
  },
  "language_info": {
   "codemirror_mode": {
    "name": "ipython",
    "version": 3
   },
   "file_extension": ".py",
   "mimetype": "text/x-python",
   "name": "python",
   "nbconvert_exporter": "python",
   "pygments_lexer": "ipython3",
   "version": "3.5.2"
  }
 },
 "nbformat": 4,
 "nbformat_minor": 1
}
